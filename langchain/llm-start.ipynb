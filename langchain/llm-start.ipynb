{
 "cells": [
  {
   "cell_type": "code",
   "execution_count": 1,
   "metadata": {},
   "outputs": [
    {
     "name": "stderr",
     "output_type": "stream",
     "text": [
      "ERROR: pip's dependency resolver does not currently take into account all the packages that are installed. This behaviour is the source of the following dependency conflicts.\n",
      "imagehash 4.3.1 requires pillow, which is not installed.\n",
      "botocore 1.27.59 requires jmespath<2.0.0,>=0.7.1, which is not installed.\n",
      "kedro 0.18.5 requires anyconfig~=0.10.0, which is not installed.\n",
      "kedro 0.18.5 requires click<9.0, which is not installed.\n",
      "kedro 0.18.5 requires cookiecutter<3.0,>=2.1.1, which is not installed.\n",
      "kedro 0.18.5 requires dynaconf<4.0,>=3.1.2, which is not installed.\n",
      "kedro 0.18.5 requires gitpython~=3.0, which is not installed.\n",
      "kedro 0.18.5 requires importlib-resources>=1.3, which is not installed.\n",
      "kedro 0.18.5 requires jmespath<1.0,>=0.9.5, which is not installed.\n",
      "kedro 0.18.5 requires more-itertools~=9.0, which is not installed.\n",
      "kedro 0.18.5 requires omegaconf~=2.3, which is not installed.\n",
      "kedro 0.18.5 requires pip-tools~=6.12, which is not installed.\n",
      "kedro 0.18.5 requires pluggy~=1.0.0, which is not installed.\n",
      "kedro 0.18.5 requires toml~=0.10, which is not installed.\n",
      "kedro 0.18.5 requires toposort~=1.9, which is not installed.\n",
      "matplotlib 3.6.3 requires pillow>=6.2.0, which is not installed.\n",
      "matplotlib 3.6.3 requires pyparsing>=2.2.1, which is not installed.\n",
      "phik 0.12.3 requires pandas>=0.25.1, which is not installed.\n",
      "pysaml2 7.4.1 requires defusedxml, which is not installed.\n",
      "pysaml2 7.4.1 requires pytz, which is not installed.\n",
      "seaborn 0.12.2 requires pandas>=0.25, which is not installed.\n",
      "statsmodels 0.13.5 requires pandas>=0.25, which is not installed.\n",
      "visions 0.7.5 requires pandas>=0.25.3, which is not installed.\n",
      "visions 0.7.5 requires tangled-up-in-unicode>=0.0.4, which is not installed.\n",
      "ydata-profiling 4.1.2 requires htmlmin==0.1.12, which is not installed.\n",
      "ydata-profiling 4.1.2 requires jinja2<3.2,>=2.11.1, which is not installed.\n",
      "ydata-profiling 4.1.2 requires pandas!=1.4.0,<1.6,>1.1, which is not installed.\n",
      "ydata-profiling 4.1.2 requires typeguard<2.14,>=2.13.2, which is not installed.\n",
      "botocore 1.27.59 requires urllib3<1.27,>=1.25.4, but you have urllib3 2.0.4 which is incompatible.\n",
      "ydata-profiling 4.1.2 requires numpy<1.24,>=1.16.0, but you have numpy 1.25.2 which is incompatible.\n",
      "ydata-profiling 4.1.2 requires requests<2.29,>=2.24.0, but you have requests 2.31.0 which is incompatible.\n",
      "ydata-profiling 4.1.2 requires tqdm<4.65,>=4.48.2, but you have tqdm 4.66.1 which is incompatible.\n"
     ]
    }
   ],
   "source": [
    "!pip -q install openai langchain "
   ]
  },
  {
   "cell_type": "code",
   "execution_count": 6,
   "metadata": {},
   "outputs": [],
   "source": [
    "import os\n",
    "\n",
    "os.environ['OPENAI_API_KEY'] = ''\n"
   ]
  },
  {
   "cell_type": "code",
   "execution_count": 7,
   "metadata": {},
   "outputs": [],
   "source": [
    "from langchain.llms import OpenAI"
   ]
  },
  {
   "cell_type": "code",
   "execution_count": 8,
   "metadata": {},
   "outputs": [],
   "source": [
    "llm = OpenAI(model_name='text-davinci-003', \n",
    "             temperature=0.9, \n",
    "             max_tokens = 256)"
   ]
  },
  {
   "cell_type": "code",
   "execution_count": 9,
   "metadata": {},
   "outputs": [
    {
     "name": "stdout",
     "output_type": "stream",
     "text": [
      "\n",
      "\n",
      "To get to the other side.\n"
     ]
    }
   ],
   "source": [
    "text = \"Why did the duck cross the road?\"\n",
    "\n",
    "print(llm(text))"
   ]
  },
  {
   "cell_type": "code",
   "execution_count": 10,
   "metadata": {},
   "outputs": [
    {
     "name": "stdout",
     "output_type": "stream",
     "text": [
      " \n",
      "\n",
      "The latest tax regimes in India are as follows: \n",
      "\n",
      "1. Goods and Services Tax (GST): This is a comprehensive indirect tax imposed on the sale, manufacture, and consumption of goods and services throughout India.\n",
      "\n",
      "2. Direct Tax Code (DTC): This is a new taxation system which aims at replacing the existing Income-tax law with an efficient, simpler and comprehensive code.\n",
      "\n",
      "3. Faceless assessment: This was introduced by the Central Board of Direct Taxes (CBDT) to ensure a more efficient tax administration system by eliminating the physical interface between the taxpayer and the tax official.\n",
      "\n",
      "4. Reduction in corporate tax: In 2019, the Government reduced the corporate tax rate from 30% to 22%.\n",
      "\n",
      "5. Benami Transactions (Prohibition) Amendment Act, 2016: This law was implemented to eliminate the black money economy in India. \n",
      "\n",
      "6. Angel Tax: This is a special tax that applies to the income earned by startups from angel investors. \n",
      "\n",
      "7. Tax exemption for digital transactions: The Government has offered a tax exemption of Rs 2000 for digital transactions via UPI, RuPay, BHIM, and other such apps. \n",
      "\n",
      "8. Aadhaar-PAN\n"
     ]
    }
   ],
   "source": [
    "text = \"What are the latest tax regimes in india?\"\n",
    "\n",
    "print(llm(text))"
   ]
  },
  {
   "cell_type": "code",
   "execution_count": 11,
   "metadata": {},
   "outputs": [
    {
     "name": "stdout",
     "output_type": "stream",
     "text": [
      "\n",
      "\n",
      "The CEO of Alphabet is Sundar Pichai and the CEO of Tesla is Elon Musk.\n"
     ]
    }
   ],
   "source": [
    "text = \"Who is the CEO of alphabet and tesla?\"\n",
    "\n",
    "print(llm(text))"
   ]
  },
  {
   "cell_type": "code",
   "execution_count": null,
   "metadata": {},
   "outputs": [],
   "source": []
  }
 ],
 "metadata": {
  "kernelspec": {
   "display_name": "llm",
   "language": "python",
   "name": "python3"
  },
  "language_info": {
   "codemirror_mode": {
    "name": "ipython",
    "version": 3
   },
   "file_extension": ".py",
   "mimetype": "text/x-python",
   "name": "python",
   "nbconvert_exporter": "python",
   "pygments_lexer": "ipython3",
   "version": "3.10.12"
  },
  "orig_nbformat": 4
 },
 "nbformat": 4,
 "nbformat_minor": 2
}
